{
 "cells": [
  {
   "cell_type": "code",
   "execution_count": 1,
   "metadata": {
    "collapsed": true
   },
   "outputs": [],
   "source": [
    "from sklearn.datasets import make_classification\n",
    "from sklearn.model_selection import train_test_split"
   ]
  },
  {
   "cell_type": "code",
   "execution_count": 2,
   "metadata": {
    "collapsed": true
   },
   "outputs": [],
   "source": [
    "from sklearn.tree import DecisionTreeClassifier\n",
    "from sklearn.ensemble import RandomForestClassifier"
   ]
  },
  {
   "cell_type": "code",
   "execution_count": 3,
   "metadata": {},
   "outputs": [],
   "source": [
    "X, y = make_classification(n_samples=1000, n_features=10,\n",
    "                           n_informative=4, n_redundant=4,\n",
    "                           random_state=0, shuffle=False)"
   ]
  },
  {
   "cell_type": "code",
   "execution_count": 4,
   "metadata": {},
   "outputs": [],
   "source": [
    "X_train, X_test, y_train, y_test = train_test_split(X, y, test_size=0.33, random_state=0)"
   ]
  },
  {
   "cell_type": "code",
   "execution_count": 5,
   "metadata": {
    "collapsed": true
   },
   "outputs": [],
   "source": [
    "d_tree = DecisionTreeClassifier(random_state=0)\n",
    "rf = RandomForestClassifier(random_state=0)"
   ]
  },
  {
   "cell_type": "code",
   "execution_count": 6,
   "metadata": {},
   "outputs": [
    {
     "data": {
      "text/plain": [
       "RandomForestClassifier(bootstrap=True, class_weight=None, criterion='gini',\n",
       "            max_depth=None, max_features='auto', max_leaf_nodes=None,\n",
       "            min_impurity_decrease=0.0, min_impurity_split=None,\n",
       "            min_samples_leaf=1, min_samples_split=2,\n",
       "            min_weight_fraction_leaf=0.0, n_estimators=10, n_jobs=1,\n",
       "            oob_score=False, random_state=0, verbose=0, warm_start=False)"
      ]
     },
     "execution_count": 6,
     "metadata": {},
     "output_type": "execute_result"
    }
   ],
   "source": [
    "d_tree.fit(X_train, y_train)\n",
    "rf.fit(X_train, y_train)"
   ]
  },
  {
   "cell_type": "code",
   "execution_count": 7,
   "metadata": {},
   "outputs": [
    {
     "name": "stdout",
     "output_type": "stream",
     "text": [
      "Decision tree training accuracy:  1.0000\n",
      "Random forest training accuracy:  0.9955 \n",
      "\n",
      "Decision tree testing accuracy:  0.8394\n",
      "Random forest testing accuracy:  0.8939 \n",
      "\n",
      "Decision tree accuracy spread:  -0.1606\n",
      "Random forest accuracy spread:  -0.1016\n"
     ]
    }
   ],
   "source": [
    "print(\"Decision tree training accuracy: \", \"{0:.4f}\".format(d_tree.score(X_train, y_train)))\n",
    "print(\"Random forest training accuracy: \", \"{0:.4f}\".format(rf.score(X_train, y_train)), '\\n')\n",
    "\n",
    "print(\"Decision tree testing accuracy: \", \"{0:.4f}\".format(d_tree.score(X_test, y_test)))\n",
    "print(\"Random forest testing accuracy: \", \"{0:.4f}\".format(rf.score(X_test, y_test)), '\\n')\n",
    "\n",
    "print(\"Decision tree accuracy spread: \", \"{0:.4f}\".format(d_tree.score(X_test, y_test) - d_tree.score(X_train, y_train)))\n",
    "print(\"Random forest accuracy spread: \", \"{0:.4f}\".format(rf.score(X_test, y_test) - rf.score(X_train, y_train)))"
   ]
  },
  {
   "cell_type": "markdown",
   "metadata": {},
   "source": [
    "# STOP"
   ]
  },
  {
   "cell_type": "code",
   "execution_count": 8,
   "metadata": {},
   "outputs": [
    {
     "data": {
      "text/plain": [
       "DecisionTreeClassifier(class_weight=None, criterion='gini', max_depth=1,\n",
       "            max_features=None, max_leaf_nodes=None,\n",
       "            min_impurity_decrease=0.0, min_impurity_split=None,\n",
       "            min_samples_leaf=1, min_samples_split=2,\n",
       "            min_weight_fraction_leaf=0.0, presort=False, random_state=0,\n",
       "            splitter='best')"
      ]
     },
     "execution_count": 8,
     "metadata": {},
     "output_type": "execute_result"
    }
   ],
   "source": [
    "d_tree = DecisionTreeClassifier(max_depth = 1, random_state=0)\n",
    "d_tree.fit(X_train, y_train)"
   ]
  },
  {
   "cell_type": "code",
   "execution_count": 9,
   "metadata": {},
   "outputs": [
    {
     "name": "stdout",
     "output_type": "stream",
     "text": [
      "Decision tree training accuracy:  0.6567 \n",
      "\n",
      "Decision tree testing accuracy:  0.6909 \n",
      "\n",
      "Decision tree accuracy spread:  0.0342 \n",
      "\n"
     ]
    }
   ],
   "source": [
    "print(\"Decision tree training accuracy: \", \"{0:.4f}\".format(d_tree.score(X_train, y_train)), '\\n')\n",
    "\n",
    "print(\"Decision tree testing accuracy: \", \"{0:.4f}\".format(d_tree.score(X_test, y_test)), '\\n')\n",
    "\n",
    "print(\"Decision tree accuracy spread: \", \"{0:.4f}\".format(d_tree.score(X_test, y_test) - d_tree.score(X_train, y_train)), '\\n')"
   ]
  },
  {
   "cell_type": "markdown",
   "metadata": {},
   "source": [
    "# STOP"
   ]
  },
  {
   "cell_type": "code",
   "execution_count": 10,
   "metadata": {},
   "outputs": [
    {
     "data": {
      "text/plain": [
       "RandomForestClassifier(bootstrap=True, class_weight=None, criterion='gini',\n",
       "            max_depth=1, max_features='auto', max_leaf_nodes=None,\n",
       "            min_impurity_decrease=0.0, min_impurity_split=None,\n",
       "            min_samples_leaf=1, min_samples_split=2,\n",
       "            min_weight_fraction_leaf=0.0, n_estimators=10, n_jobs=1,\n",
       "            oob_score=False, random_state=0, verbose=0, warm_start=False)"
      ]
     },
     "execution_count": 10,
     "metadata": {},
     "output_type": "execute_result"
    }
   ],
   "source": [
    "rf = RandomForestClassifier(max_depth = 1, random_state=0)\n",
    "rf.fit(X_train, y_train)"
   ]
  },
  {
   "cell_type": "code",
   "execution_count": 11,
   "metadata": {},
   "outputs": [
    {
     "name": "stdout",
     "output_type": "stream",
     "text": [
      "Random forest training accuracy:  0.7134 \n",
      "\n",
      "Random forest testing accuracy:  0.6545 \n",
      "\n",
      "Random forest accuracy spread:  -0.0589\n"
     ]
    }
   ],
   "source": [
    "print(\"Random forest training accuracy: \", \"{0:.4f}\".format(rf.score(X_train, y_train)), '\\n')\n",
    "\n",
    "print(\"Random forest testing accuracy: \", \"{0:.4f}\".format(rf.score(X_test, y_test)), '\\n')\n",
    "\n",
    "print(\"Random forest accuracy spread: \", \"{0:.4f}\".format(rf.score(X_test, y_test) - rf.score(X_train, y_train)))"
   ]
  },
  {
   "cell_type": "code",
   "execution_count": null,
   "metadata": {
    "collapsed": true
   },
   "outputs": [],
   "source": []
  }
 ],
 "metadata": {
  "kernelspec": {
   "display_name": "Python 3",
   "language": "python",
   "name": "python3"
  },
  "language_info": {
   "codemirror_mode": {
    "name": "ipython",
    "version": 3
   },
   "file_extension": ".py",
   "mimetype": "text/x-python",
   "name": "python",
   "nbconvert_exporter": "python",
   "pygments_lexer": "ipython3",
   "version": "3.6.3"
  }
 },
 "nbformat": 4,
 "nbformat_minor": 2
}
